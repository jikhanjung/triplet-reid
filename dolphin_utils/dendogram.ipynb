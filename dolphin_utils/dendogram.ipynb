{
 "cells": [
  {
   "cell_type": "code",
   "execution_count": 1,
   "metadata": {},
   "outputs": [
    {
     "name": "stdout",
     "output_type": "stream",
     "text": [
      "2.4.0\n"
     ]
    },
    {
     "name": "stderr",
     "output_type": "stream",
     "text": [
      "/home/soren/.local/lib/python3.5/site-packages/h5py/__init__.py:36: FutureWarning:\n",
      "\n",
      "Conversion of the second argument of issubdtype from `float` to `np.floating` is deprecated. In future, it will be treated as `np.float64 == np.dtype(float).type`.\n",
      "\n"
     ]
    }
   ],
   "source": [
    "from plotly import  __version__\n",
    "import plotly\n",
    "print(__version__)\n",
    "import plotly.plotly as py\n",
    "import plotly.figure_factory as FF\n",
    "import plotly.graph_objs as go\n",
    "import os\n",
    "import sys\n",
    "import numpy as np\n",
    "from PIL import Image\n",
    "import h5py\n",
    "import base64\n",
    "import io\n",
    "from scipy.spatial.distance import pdist, squareform\n",
    "plotly.tools.set_credentials_file(username='sorenbouma', api_key='bbYtTVusNHT3DzScbe8o')\n",
    "embedding_file = \"bottle_results_unflipped/jess_embeds_new.h5\"\n",
    "label_file = \"/home/soren/fins/label.csv\"\n",
    "image_root = \"/home/soren/fins\"\n",
    "goal_res = (224, 224)\n",
    "import os\n",
    "os.listdir(\"bottle_results_unflipped\")\n",
    "with h5py.File(embedding_file, \"r\") as f:\n",
    "    embeddings = np.array(f[\"emb\"])\n",
    "labels = np.genfromtxt(label_file, delimiter=\",\",dtype='|U')\n",
    "labels.shape\n",
    "a = io.BytesIO()"
   ]
  },
  {
   "cell_type": "code",
   "execution_count": 2,
   "metadata": {},
   "outputs": [],
   "source": [
    "figure = FF.create_dendrogram(embeddings,orientation=\"bottom\", labels=labels[:,1])\n",
    "figure['layout'].update({'width':1800,'height':500})\n"
   ]
  },
  {
   "cell_type": "code",
   "execution_count": 3,
   "metadata": {},
   "outputs": [],
   "source": [
    "def get_encoded_image(filename, image_root, target_size=(100,100)):\n",
    "    im = Image.open(os.path.join(image_root, filename))\n",
    "    im = im.resize(target_size)\n",
    "    output = io.BytesIO()\n",
    "    im.save(output, format=\"JPEG\")\n",
    "    output.seek(0)\n",
    "    image_bytes = output.read()\n",
    "    b64_image = base64.b64encode(image_bytes).decode(\"ascii\")\n",
    "    return \"data:image/jpg;base64,{}\".format(b64_image)\n",
    "\n",
    "    \n",
    "    \n",
    "\n",
    "images = []\n",
    "for x_coord, filename in zip(figure['layout']['xaxis']['tickvals'], figure['layout']['xaxis']['ticktext']):\n",
    "    b64 = get_encoded_image(filename, image_root) \n",
    "    i_attrs = {\n",
    "            \"yanchor\": \"bottom\",\n",
    "            \"layer\": \"below\",\n",
    "            \"xref\": \"x\",\n",
    "            \"sizex\": 10,\n",
    "            \"sizey\": 10,\n",
    "            \"y\": 0,\n",
    "            \"x\": x_coord,\n",
    "            \"source\": b64\n",
    "        }\n",
    "\n",
    "    images.append(i_attrs)\n",
    "figure[\"layout\"].update({\"images\":images})\n"
   ]
  },
  {
   "cell_type": "code",
   "execution_count": 4,
   "metadata": {},
   "outputs": [
    {
     "data": {
      "text/html": [
       "<iframe id=\"igraph\" scrolling=\"no\" style=\"border:none;\" seamless=\"seamless\" src=\"https://plot.ly/~sorenbouma/2.embed\" height=\"500px\" width=\"1800px\"></iframe>"
      ],
      "text/plain": [
       "<plotly.tools.PlotlyDisplay object>"
      ]
     },
     "execution_count": 4,
     "metadata": {},
     "output_type": "execute_result"
    }
   ],
   "source": [
    "py.iplot(figure, filename='dendrogram_with_heatmap_short')"
   ]
  },
  {
   "cell_type": "code",
   "execution_count": null,
   "metadata": {},
   "outputs": [],
   "source": []
  }
 ],
 "metadata": {
  "kernelspec": {
   "display_name": "Python 3",
   "language": "python",
   "name": "python3"
  },
  "language_info": {
   "codemirror_mode": {
    "name": "ipython",
    "version": 3
   },
   "file_extension": ".py",
   "mimetype": "text/x-python",
   "name": "python",
   "nbconvert_exporter": "python",
   "pygments_lexer": "ipython3",
   "version": "3.5.2"
  }
 },
 "nbformat": 4,
 "nbformat_minor": 2
}
